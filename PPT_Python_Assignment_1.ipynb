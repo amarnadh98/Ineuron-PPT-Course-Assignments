{
  "nbformat": 4,
  "nbformat_minor": 0,
  "metadata": {
    "colab": {
      "provenance": [],
      "authorship_tag": "ABX9TyPXChQbTxBjaS06bzkSOdia",
      "include_colab_link": true
    },
    "kernelspec": {
      "name": "python3",
      "display_name": "Python 3"
    },
    "language_info": {
      "name": "python"
    }
  },
  "cells": [
    {
      "cell_type": "markdown",
      "metadata": {
        "id": "view-in-github",
        "colab_type": "text"
      },
      "source": [
        "<a href=\"https://colab.research.google.com/github/amarnadh98/Ineuron-PPT-Course-Assignments/blob/main/PPT_Python_Assignment_1.ipynb\" target=\"_parent\"><img src=\"https://colab.research.google.com/assets/colab-badge.svg\" alt=\"Open In Colab\"/></a>"
      ]
    },
    {
      "cell_type": "markdown",
      "source": [
        "💡 **Q1.** Given an array of integers nums and an integer target, return indices of the two numbers such that they add up to target.\n",
        "\n",
        "You may assume that each input would have exactly one solution, and you may not use the same element twice.\n",
        "\n",
        "You can return the answer in any order.\n",
        "\n",
        "**Example:**\n",
        "Input: nums = [2,7,11,15], target = 9\n",
        "Output0 [0,1]\n",
        "\n",
        "**Explanation:** Because nums[0] + nums[1] == 9, we return [0, 1]"
      ],
      "metadata": {
        "id": "vwo6lsgQXVfl"
      }
    },
    {
      "cell_type": "code",
      "source": [
        "def Question1(ip,target):\n",
        "  d = {}\n",
        "  for i,num in enumerate(ip):\n",
        "    if abs(target-num) in d:\n",
        "        return [i,d[abs(target-num)]]\n",
        "    else:\n",
        "      d[num] = i\n",
        "\n",
        "ans = Question1([2,7,11,15],9)\n",
        "ans"
      ],
      "metadata": {
        "colab": {
          "base_uri": "https://localhost:8080/"
        },
        "id": "-qSRrAIlYJWs",
        "outputId": "560137c1-ab91-48e0-9673-b8a25c07e6ef"
      },
      "execution_count": null,
      "outputs": [
        {
          "output_type": "execute_result",
          "data": {
            "text/plain": [
              "[1, 0]"
            ]
          },
          "metadata": {},
          "execution_count": 18
        }
      ]
    },
    {
      "cell_type": "markdown",
      "source": [
        "\n",
        "💡 **Q2.** Given an integer array nums and an integer val, remove all occurrences of val in nums in-place. The order of the elements may be changed. Then return the number of elements in nums which are not equal to val.\n",
        "\n",
        "Consider the number of elements in nums which are not equal to val be k, to get accepted, you need to do the following things:\n",
        "\n",
        "- Change the array nums such that the first k elements of nums contain the elements which are not equal to val. The remaining elements of nums are not important as well as the size of nums.\n",
        "- Return k.\n",
        "\n",
        "**Example :**\n",
        "Input: nums = [3,2,2,3], val = 3\n",
        "Output: 2, nums = [2,2,_*,_*]\n",
        "\n",
        "**Explanation:** Your function should return k = 2, with the first two elements of nums being 2. It does not matter what you leave beyond the returned k (hence they are underscores)\n"
      ],
      "metadata": {
        "id": "Vbbwd6ggXczB"
      }
    },
    {
      "cell_type": "code",
      "source": [
        "def Question2(nums,val):\n",
        "  k = 0\n",
        "  for i,num in enumerate(nums):\n",
        "    if num != val:\n",
        "      nums[k],nums[i] = nums[i],nums[k]\n",
        "      k+=1      \n",
        "  return nums\n",
        "\n",
        "\n",
        "ans = Question2([3,2,2,3],3)\n",
        "ans"
      ],
      "metadata": {
        "colab": {
          "base_uri": "https://localhost:8080/"
        },
        "id": "HtbanmDOZ_Hw",
        "outputId": "a33b053a-517f-4f53-dc9f-08c5a0eee145"
      },
      "execution_count": null,
      "outputs": [
        {
          "output_type": "execute_result",
          "data": {
            "text/plain": [
              "[2, 2, 3, 3]"
            ]
          },
          "metadata": {},
          "execution_count": 13
        }
      ]
    },
    {
      "cell_type": "markdown",
      "source": [
        "\n",
        "💡 **Q3.** Given a sorted array of distinct integers and a target value, return the index if the target is found. If not, return the index where it would be if it were inserted in order.\n",
        "\n",
        "You must write an algorithm with O(log n) runtime complexity.\n",
        "\n",
        "**Example 1:**\n",
        "Input: nums = [1,3,5,6], target = 5\n",
        "\n",
        "Output: 2\n",
        "\n"
      ],
      "metadata": {
        "id": "iQFB1csmXc6Z"
      }
    },
    {
      "cell_type": "code",
      "source": [
        "def Question3(arr,target):\n",
        "\n",
        "  for i,num in enumerate(arr):\n",
        "    if num == target:\n",
        "      return i\n",
        "    elif target > arr[i-1] and target < num:\n",
        "      return i\n",
        "    elif target > num and i == len(arr)-1 :\n",
        "      return len(arr)\n",
        "    \n",
        "\n",
        "\n",
        "ans = Question3([1,3,5,6],5)\n",
        "ans\n",
        "\n",
        "\n"
      ],
      "metadata": {
        "id": "WSgCqkQIgL5S",
        "colab": {
          "base_uri": "https://localhost:8080/"
        },
        "outputId": "661f6c3f-d8d8-4f2f-fcec-8132ea5780c4"
      },
      "execution_count": null,
      "outputs": [
        {
          "output_type": "execute_result",
          "data": {
            "text/plain": [
              "2"
            ]
          },
          "metadata": {},
          "execution_count": 5
        }
      ]
    },
    {
      "cell_type": "markdown",
      "source": [
        "\n",
        "💡 **Q4.** You are given a large integer represented as an integer array digits, where each digits[i] is the ith digit of the integer. The digits are ordered from most significant to least significant in left-to-right order. The large integer does not contain any leading 0's.\n",
        "\n",
        "Increment the large integer by one and return the resulting array of digits.\n",
        "\n",
        "**Example 1:**\n",
        "Input: digits = [1,2,3]\n",
        "Output: [1,2,4]\n",
        "\n",
        "**Explanation:** The array represents the integer 123.\n",
        "\n",
        "Incrementing by one gives 123 + 1 = 124.\n",
        "Thus, the result should be [1,2,4].\n",
        "\n"
      ],
      "metadata": {
        "id": "bC1Oisv4XdDf"
      }
    },
    {
      "cell_type": "code",
      "source": [
        "def Question4(ip):\n",
        "  n = 0\n",
        "  for i,num in enumerate(ip[::-1]):\n",
        "    n += (num * (10 ** i))\n",
        "  return n+1\n",
        "\n",
        "ans = Question4([1,2,3])\n",
        "ans"
      ],
      "metadata": {
        "id": "chj8xE64jmVf",
        "colab": {
          "base_uri": "https://localhost:8080/"
        },
        "outputId": "dc12b1bb-b6f3-4e67-8adf-f9f717d009c4"
      },
      "execution_count": null,
      "outputs": [
        {
          "output_type": "execute_result",
          "data": {
            "text/plain": [
              "124"
            ]
          },
          "metadata": {},
          "execution_count": 5
        }
      ]
    },
    {
      "cell_type": "markdown",
      "source": [
        "\n",
        "💡 **Q5.** You are given two integer arrays nums1 and nums2, sorted in non-decreasing order, and two integers m and n, representing the number of elements in nums1 and nums2 respectively.\n",
        "\n",
        "Merge nums1 and nums2 into a single array sorted in non-decreasing order.\n",
        "\n",
        "The final sorted array should not be returned by the function, but instead be stored inside the array nums1. To accommodate this, nums1 has a length of m + n, where the first m elements denote the elements that should be merged, and the last n elements are set to 0 and should be ignored. nums2 has a length of n.\n",
        "\n",
        "**Example 1:**\n",
        "Input: nums1 = [1,2,3,0,0,0], m = 3, nums2 = [2,5,6], n = 3\n",
        "Output: [1,2,2,3,5,6]\n",
        "\n",
        "**Explanation:** The arrays we are merging are [1,2,3] and [2,5,6].\n",
        "The result of the merge is [1,2,2,3,5,6] with the underlined elements coming from nums1.\n",
        "\n"
      ],
      "metadata": {
        "id": "XMs5wCMaXdLe"
      }
    },
    {
      "cell_type": "code",
      "source": [
        "def Question5(nums1, m, nums2, n):\n",
        "    \n",
        "    p1 = m - 1  \n",
        "    p2 = n - 1  \n",
        "    p = m + n - 1  \n",
        "\n",
        "    \n",
        "    while p1 >= 0 and p2 >= 0:\n",
        "        if nums1[p1] >= nums2[p2]:\n",
        "            nums1[p] = nums1[p1]\n",
        "            p1 -= 1\n",
        "        else:\n",
        "            nums1[p] = nums2[p2]\n",
        "            p2 -= 1\n",
        "        p -= 1\n",
        "\n",
        "    \n",
        "    while p2 >= 0:\n",
        "        nums1[p] = nums2[p2]\n",
        "        p2 -= 1\n",
        "        p -= 1\n",
        "\n",
        "    return nums1\n",
        "\n",
        "\n",
        "ans = Question5([1,2,3,0,0,0],3,[2,5,6],3)\n",
        "ans\n"
      ],
      "metadata": {
        "colab": {
          "base_uri": "https://localhost:8080/"
        },
        "id": "_0VinMKFkIDA",
        "outputId": "7952dfb1-41aa-422d-9f43-f8c3452a0e71"
      },
      "execution_count": null,
      "outputs": [
        {
          "output_type": "execute_result",
          "data": {
            "text/plain": [
              "[1, 2, 2, 3, 5, 6]"
            ]
          },
          "metadata": {},
          "execution_count": 6
        }
      ]
    },
    {
      "cell_type": "markdown",
      "source": [
        "\n",
        "💡 **Q6.** Given an integer array nums, return true if any value appears at least twice in the array, and return false if every element is distinct.\n",
        "\n",
        "**Example 1:**\n",
        "Input: nums = [1,2,3,1]\n",
        "\n",
        "Output: true\n",
        "\n"
      ],
      "metadata": {
        "id": "7mZPycfeXdRb"
      }
    },
    {
      "cell_type": "code",
      "source": [
        "def Question6(arr):\n",
        "  if len(arr) == len(set(arr)):\n",
        "    return False\n",
        "  return True\n",
        "\n",
        "\n",
        "ans = Question6([1,2,3,2])\n",
        "ans"
      ],
      "metadata": {
        "id": "pFFCmlEDsDxd",
        "colab": {
          "base_uri": "https://localhost:8080/"
        },
        "outputId": "1d4fa08a-85f1-4d82-b3b1-14add11124cc"
      },
      "execution_count": 3,
      "outputs": [
        {
          "output_type": "execute_result",
          "data": {
            "text/plain": [
              "True"
            ]
          },
          "metadata": {},
          "execution_count": 3
        }
      ]
    },
    {
      "cell_type": "markdown",
      "source": [
        "\n",
        "💡 **Q7.** Given an integer array nums, move all 0's to the end of it while maintaining the relative order of the nonzero elements.\n",
        "\n",
        "Note that you must do this in-place without making a copy of the array.\n",
        "\n",
        "**Example 1:**\n",
        "Input: nums = [0,1,0,3,12]\n",
        "Output: [1,3,12,0,0]\n",
        "\n"
      ],
      "metadata": {
        "id": "_-ZPamGkXdV-"
      }
    },
    {
      "cell_type": "code",
      "source": [
        "def Question7(arr):\n",
        "  l = len(arr)-1\n",
        "  i = 0\n",
        "  while i <= l:\n",
        "    if arr[i] == 0:\n",
        "      arr.pop(i)\n",
        "      arr.append(0)\n",
        "      l-=1\n",
        "    else:\n",
        "      i+=1\n",
        "\n",
        "  return arr\n",
        "\n",
        "ans = Question7([0,1,0,3,12])\n",
        "ans"
      ],
      "metadata": {
        "colab": {
          "base_uri": "https://localhost:8080/"
        },
        "id": "wMyupBRbpK5K",
        "outputId": "89086458-1126-405f-f45c-060682c9158e"
      },
      "execution_count": 13,
      "outputs": [
        {
          "output_type": "execute_result",
          "data": {
            "text/plain": [
              "[1, 3, 12, 0, 0]"
            ]
          },
          "metadata": {},
          "execution_count": 13
        }
      ]
    },
    {
      "cell_type": "markdown",
      "source": [
        "\n",
        "💡 **Q8.** You have a set of integers s, which originally contains all the numbers from 1 to n. Unfortunately, due to some error, one of the numbers in s got duplicated to another number in the set, which results in repetition of one number and loss of another number.\n",
        "\n",
        "You are given an integer array nums representing the data status of this set after the error.\n",
        "\n",
        "Find the number that occurs twice and the number that is missing and return them in the form of an array.\n",
        "\n",
        "**Example 1:**\n",
        "Input: nums = [1,2,2,4]\n",
        "Output: [2,3]\n",
        "\n"
      ],
      "metadata": {
        "id": "5RDOxNc_YCXp"
      }
    },
    {
      "cell_type": "code",
      "source": [
        "def Question8(arr):\n",
        "  i = 1\n",
        "  for num in arr:\n",
        "    if i == num :\n",
        "      i+=1\n",
        "    else:\n",
        "      return([num,i])\n",
        "\n",
        "ans = Question8([1,2,3,4,4,6])\n",
        "ans\n"
      ],
      "metadata": {
        "id": "cSOY9fbgX_Zs",
        "colab": {
          "base_uri": "https://localhost:8080/"
        },
        "outputId": "402a4175-c1df-4cef-a3d9-97918f3b3712"
      },
      "execution_count": 15,
      "outputs": [
        {
          "output_type": "execute_result",
          "data": {
            "text/plain": [
              "[4, 5]"
            ]
          },
          "metadata": {},
          "execution_count": 15
        }
      ]
    }
  ]
}