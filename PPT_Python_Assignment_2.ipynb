{
  "nbformat": 4,
  "nbformat_minor": 0,
  "metadata": {
    "colab": {
      "provenance": [],
      "authorship_tag": "ABX9TyNUzKntil/i6YU4gVZy3yhA",
      "include_colab_link": true
    },
    "kernelspec": {
      "name": "python3",
      "display_name": "Python 3"
    },
    "language_info": {
      "name": "python"
    }
  },
  "cells": [
    {
      "cell_type": "markdown",
      "metadata": {
        "id": "view-in-github",
        "colab_type": "text"
      },
      "source": [
        "<a href=\"https://colab.research.google.com/github/amarnadh98/Ineuron-PPT-Course-Assignments/blob/main/PPT_Python_Assignment_2.ipynb\" target=\"_parent\"><img src=\"https://colab.research.google.com/assets/colab-badge.svg\" alt=\"Open In Colab\"/></a>"
      ]
    },
    {
      "cell_type": "markdown",
      "source": [
        "<aside>\n",
        "💡  **Question 1**\n",
        "Given an integer array nums of 2n integers, group these integers into n pairs (a1, b1), (a2, b2),..., (an, bn) such that the sum of min(ai, bi) for all i is maximized. Return the maximized sum.\n",
        "\n",
        "**Example 1:**\n",
        "Input: nums = [1,4,3,2]\n",
        "Output: 4\n",
        "\n",
        "**Explanation:** All possible pairings (ignoring the ordering of elements) are:\n",
        "\n",
        "1. (1, 4), (2, 3) -> min(1, 4) + min(2, 3) = 1 + 2 = 3\n",
        "2. (1, 3), (2, 4) -> min(1, 3) + min(2, 4) = 1 + 2 = 3\n",
        "3. (1, 2), (3, 4) -> min(1, 2) + min(3, 4) = 1 + 3 = 4\n",
        "So the maximum possible sum is 4\n",
        "</aside>"
      ],
      "metadata": {
        "id": "5ZcUD2anxZAJ"
      }
    },
    {
      "cell_type": "code",
      "execution_count": null,
      "metadata": {
        "colab": {
          "base_uri": "https://localhost:8080/"
        },
        "id": "ExhmJ9M9xMlu",
        "outputId": "51532380-7b47-428a-92a6-4b106b42ced1"
      },
      "outputs": [
        {
          "output_type": "execute_result",
          "data": {
            "text/plain": [
              "4"
            ]
          },
          "metadata": {},
          "execution_count": 4
        }
      ],
      "source": [
        "def Question1(arr):\n",
        "  arr.sort()\n",
        "  x = 0\n",
        "  for i in arr[::2]:\n",
        "    x+=i\n",
        "\n",
        "  return x\n",
        "\n",
        "ans = Question1([1,4,3,2])\n",
        "ans\n"
      ]
    },
    {
      "cell_type": "markdown",
      "source": [
        "Question 2\n",
        "Alice has n candies, where the ith candy is of type candyType[i]. Alice noticed that she started to gain weight, so she visited a doctor. \n",
        "\n",
        "The doctor advised Alice to only eat n / 2 of the candies she has (n is always even). Alice likes her candies very much, and she wants to eat the maximum number of different types of candies while still following the doctor's advice. \n",
        "\n",
        "Given the integer array candyType of length n, return the maximum number of different types of candies she can eat if she only eats n / 2 of them.\n",
        "\n",
        "Example 1:\n",
        "Input: candyType = [1,1,2,2,3,3]\n",
        "Output: 3\n",
        "\n",
        "Explanation: Alice can only eat 6 / 2 = 3 candies. Since there are only 3 types, she can eat one of each type."
      ],
      "metadata": {
        "id": "627PHSWWxa2Z"
      }
    },
    {
      "cell_type": "code",
      "source": [
        "def Question2(arr):\n",
        "  return len(set(arr)) if len(set(arr)) <= len(arr)/2 else len(arr)//2\n",
        "\n",
        "ans = Question2([1,1,2,2,3,3])\n",
        "ans"
      ],
      "metadata": {
        "colab": {
          "base_uri": "https://localhost:8080/"
        },
        "id": "ReLWqx6MNHhZ",
        "outputId": "ccb013b6-54bd-45ea-9a37-85c33c5a8afa"
      },
      "execution_count": null,
      "outputs": [
        {
          "output_type": "execute_result",
          "data": {
            "text/plain": [
              "3"
            ]
          },
          "metadata": {},
          "execution_count": 14
        }
      ]
    },
    {
      "cell_type": "markdown",
      "source": [
        "Question 3\n",
        "We define a harmonious array as an array where the difference between its maximum value\n",
        "and its minimum value is exactly 1.\n",
        "\n",
        "Given an integer array nums, return the length of its longest harmonious subsequence\n",
        "among all its possible subsequences.\n",
        "\n",
        "A subsequence of an array is a sequence that can be derived from the array by deleting some or no elements without changing the order of the remaining elements.\n",
        "\n",
        "Example 1:\n",
        "Input: nums = [1,3,2,2,5,2,3,7]\n",
        "Output: 5\n",
        "\n",
        "Explanation: The longest harmonious subsequence is [3,2,2,2,3]."
      ],
      "metadata": {
        "id": "hF8MTYzFxdwh"
      }
    },
    {
      "cell_type": "code",
      "source": [
        "def Question3(arr):\n",
        "  d = {}\n",
        "  t = 0\n",
        "  m = 0\n",
        "  s = []\n",
        "  for num in arr:\n",
        "    d[num] = d.get(num,0)+1\n",
        "  for num in arr:\n",
        "    if num+1 in d:\n",
        "      t = d[num]+d[num+1]\n",
        "      if t > m:\n",
        "        m = t\n",
        "        s = []\n",
        "        for i in arr:\n",
        "          if i == num or i == num+1 :\n",
        "            s.append(i)\n",
        "      \n",
        "\n",
        "  return m,s\n",
        "\n",
        "m,s = Question3([1,3,2,2,5,2,3,7])\n",
        "print(f\"max length of harmonious subsequence is {m} and sequnce is {s}\")"
      ],
      "metadata": {
        "colab": {
          "base_uri": "https://localhost:8080/"
        },
        "id": "357NIYDiPKeS",
        "outputId": "7048d97c-91fb-445b-e72b-fd3dc59c8802"
      },
      "execution_count": null,
      "outputs": [
        {
          "output_type": "stream",
          "name": "stdout",
          "text": [
            "max length of harmonious subsequence is 5 and sequnce is [3, 2, 2, 2, 3]\n"
          ]
        }
      ]
    },
    {
      "cell_type": "markdown",
      "source": [
        "Question 4\n",
        "You have a long flowerbed in which some of the plots are planted, and some are not.\n",
        "However, flowers cannot be planted in adjacent plots.\n",
        "Given an integer array flowerbed containing 0's and 1's, where 0 means empty and 1 means not empty, and an integer n, return true if n new flowers can be planted in the flowerbed without violating the no-adjacent-flowers rule and false otherwise.\n",
        "\n",
        "Example 1:\n",
        "Input: flowerbed = [1,0,0,0,1], n = 1\n",
        "Output: true"
      ],
      "metadata": {
        "id": "kgkiqKcdxgq8"
      }
    },
    {
      "cell_type": "code",
      "source": [
        "def Question4(arr,n):\n",
        "  m = 0\n",
        "  i = 1\n",
        "  while i < len(arr)-1:\n",
        "\n",
        "    if arr[i] == arr[i-1] and arr[i] == arr[i+1]:\n",
        "      m+=1\n",
        "      i+=1\n",
        "    \n",
        "    else:\n",
        "      i+=1\n",
        "\n",
        "  \n",
        "  if arr[i-1] == 0 and arr[i] == 0:\n",
        "    m+=1\n",
        "\n",
        "  return m >= n\n",
        "\n",
        "ans = Question4([1,0,0,0,1,0,0],2)\n",
        "ans"
      ],
      "metadata": {
        "colab": {
          "base_uri": "https://localhost:8080/"
        },
        "id": "beVXfhYBiLfX",
        "outputId": "e47e9b85-7d41-4be2-ded5-6609c8accc22"
      },
      "execution_count": null,
      "outputs": [
        {
          "output_type": "execute_result",
          "data": {
            "text/plain": [
              "True"
            ]
          },
          "metadata": {},
          "execution_count": 35
        }
      ]
    },
    {
      "cell_type": "markdown",
      "source": [
        "Question 5\n",
        "Given an integer array nums, find three numbers whose product is maximum and return the maximum product.\n",
        "\n",
        "Example 1:\n",
        "Input: nums = [1,2,3]\n",
        "Output: 6"
      ],
      "metadata": {
        "id": "YaJ7thMfxjNq"
      }
    },
    {
      "cell_type": "code",
      "source": [
        "def Question5(arr):\n",
        "  arr.sort()\n",
        "  return arr[-1]*arr[-2]*arr[-3]\n",
        "\n",
        "ans = Question5([1,2,3,4,5,6,9,0,12])\n",
        "ans"
      ],
      "metadata": {
        "colab": {
          "base_uri": "https://localhost:8080/"
        },
        "id": "8OEhqc8Ez95U",
        "outputId": "1c8f808d-688c-4da2-ca59-0cc3d9b54ba1"
      },
      "execution_count": null,
      "outputs": [
        {
          "output_type": "execute_result",
          "data": {
            "text/plain": [
              "648"
            ]
          },
          "metadata": {},
          "execution_count": 39
        }
      ]
    },
    {
      "cell_type": "markdown",
      "source": [
        "Question 6\n",
        "Given an array of integers nums which is sorted in ascending order, and an integer target,\n",
        "write a function to search target in nums. If target exists, then return its index. Otherwise,\n",
        "return -1.\n",
        "\n",
        "You must write an algorithm with O(log n) runtime complexity.\n",
        "\n",
        "Input: nums = [-1,0,3,5,9,12], target = 9\n",
        "Output: 4\n",
        "\n",
        "Explanation: 9 exists in nums and its index is 4"
      ],
      "metadata": {
        "id": "yySeJsR1xlUS"
      }
    },
    {
      "cell_type": "code",
      "source": [
        "def Question6(arr,target):\n",
        "  right = len(arr) - 1\n",
        "  left = 0\n",
        "  while left <= right :\n",
        "    mid = left + (right-left)//2\n",
        "    if target < arr[mid] :\n",
        "      right = mid\n",
        "    elif target > arr[mid]:\n",
        "      left = mid\n",
        "    else:\n",
        "      return mid\n",
        "\n",
        "ans = Question6([-1,0,3,5,9,12],9)\n",
        "ans\n"
      ],
      "metadata": {
        "colab": {
          "base_uri": "https://localhost:8080/"
        },
        "id": "s6WEl5mO0hLh",
        "outputId": "8e055491-2a37-4f82-ea89-b06dd628388a"
      },
      "execution_count": null,
      "outputs": [
        {
          "output_type": "execute_result",
          "data": {
            "text/plain": [
              "4"
            ]
          },
          "metadata": {},
          "execution_count": 47
        }
      ]
    },
    {
      "cell_type": "markdown",
      "source": [
        "Question 7\n",
        "An array is monotonic if it is either monotone increasing or monotone decreasing.\n",
        "\n",
        "An array nums is monotone increasing if for all i <= j, nums[i] <= nums[j]. An array nums is\n",
        "monotone decreasing if for all i <= j, nums[i] >= nums[j].\n",
        "\n",
        "Given an integer array nums, return true if the given array is monotonic, or false otherwise.\n",
        "\n",
        "Example 1:\n",
        "Input: nums = [1,2,2,3]\n",
        "Output: true"
      ],
      "metadata": {
        "id": "1i0drSRmxn0y"
      }
    },
    {
      "cell_type": "code",
      "source": [
        "def Question7(arr):\n",
        "  increasing = all(arr[i]<=arr[i+1] for i in range(len(arr)-1))\n",
        "  decreasing = all(arr[i]>=arr[i+1] for i in range(len(arr)-1))\n",
        "\n",
        "  return increasing or decreasing \n",
        "\n",
        "ans = Question7([1,2,2,3])\n",
        "ans\n"
      ],
      "metadata": {
        "id": "r9unZ6YO5VtU",
        "colab": {
          "base_uri": "https://localhost:8080/"
        },
        "outputId": "6ecb9c2c-c537-4a0e-ef16-9dd3a4a4ecc1"
      },
      "execution_count": 2,
      "outputs": [
        {
          "output_type": "execute_result",
          "data": {
            "text/plain": [
              "True"
            ]
          },
          "metadata": {},
          "execution_count": 2
        }
      ]
    },
    {
      "cell_type": "markdown",
      "source": [
        "Question 8\n",
        "You are given an integer array nums and an integer k.\n",
        "\n",
        "In one operation, you can choose any index i where 0 <= i < nums.length and change nums[i] to nums[i] + x where x is an integer from the range [-k, k]. You can apply this operation at most once for each index i.\n",
        "\n",
        "The score of nums is the difference between the maximum and minimum elements in nums.\n",
        "\n",
        "Return the minimum score of nums after applying the mentioned operation at most once for each index in it.\n",
        "\n",
        "Example 1:\n",
        "Input: nums = [1], k = 0\n",
        "Output: 0\n",
        "\n",
        "Explanation: The score is max(nums) - min(nums) = 1 - 1 = 0."
      ],
      "metadata": {
        "id": "cggf8Ac6xrOR"
      }
    },
    {
      "cell_type": "code",
      "source": [
        "def Question8(nums, k):\n",
        "   \n",
        "    \n",
        "    nums.sort()  \n",
        "    \n",
        "    \n",
        "    min_val = nums[0]\n",
        "    max_val = nums[-1]\n",
        "    \n",
        "    \n",
        "    initial_diff = max_val - min_val\n",
        "    \n",
        "   \n",
        "    if initial_diff <= 2 * k:\n",
        "        return initial_diff\n",
        "    \n",
        "    \n",
        "    min_val += k\n",
        "    max_val -= k\n",
        "    \n",
        "    # Find the new minimum and maximum values after adjustment\n",
        "    new_min = min(min_val, nums[-2] - k)  \n",
        "    new_max = max(max_val, nums[1] + k)  \n",
        "    \n",
        "    return new_max - new_min\n",
        "\n",
        "\n",
        "\n",
        "\n",
        "\n",
        "ans = Question8([1],0)\n",
        "ans\n"
      ],
      "metadata": {
        "id": "ErqCTJ6vxt-c",
        "colab": {
          "base_uri": "https://localhost:8080/"
        },
        "outputId": "f3035339-56f4-4f8a-f455-7c9e143637c0"
      },
      "execution_count": 1,
      "outputs": [
        {
          "output_type": "execute_result",
          "data": {
            "text/plain": [
              "0"
            ]
          },
          "metadata": {},
          "execution_count": 1
        }
      ]
    },
    {
      "cell_type": "code",
      "source": [],
      "metadata": {
        "id": "UBO3dImska3w"
      },
      "execution_count": null,
      "outputs": []
    }
  ]
}